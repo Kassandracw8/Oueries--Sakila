{
 "cells": [
  {
   "cell_type": "markdown",
   "id": "8036746e",
   "metadata": {},
   "source": [
    "# #Queries: Sakila 4/27/23\n"
   ]
  },
  {
   "cell_type": "code",
   "execution_count": 3,
   "id": "6e4aa7a7",
   "metadata": {},
   "outputs": [],
   "source": [
    "import pymysql\n",
    "pymysql.install_as_MySQLdb()\n",
    "\n",
    "import pandas as pd\n",
    "from sqlalchemy import create_engine"
   ]
  },
  {
   "cell_type": "markdown",
   "id": "3d1106c7",
   "metadata": {},
   "source": [
    "1. What query would you run to get all the customers inside city_id = 312? Your query should return the customers' first name, last name, email, address, and city."
   ]
  },
  {
   "cell_type": "code",
   "execution_count": null,
   "id": "638f3843",
   "metadata": {},
   "outputs": [],
   "source": [
    "FROM\n",
    "customer AS c\n",
    "JOIN\n",
    "address AS a ON c.address_id = a.address_id\n",
    "JOIN\n",
    "city ON a.city_id = city.city_id\n",
    "WHERE\n",
    "a.city_id = 312;\n",
    "\n"
   ]
  },
  {
   "cell_type": "markdown",
   "id": "06374dcb",
   "metadata": {},
   "source": [
    "2. What query would you run to get all comedy films? Note that the genre is called the category in this schema. Your query should return film title, description, release year, rating, and special features.\n"
   ]
  },
  {
   "cell_type": "code",
   "execution_count": null,
   "id": "40d04079",
   "metadata": {},
   "outputs": [],
   "source": [
    "SELECT film.title, film.description, film.release_year, film.rating, film.special_features, category.name AS genre\n",
    "FROM film \n",
    "JOIN film_category ON film.film_id = film_category.film_id\n",
    "JOIN category ON film_category.category_id = category.category_id \n",
    "WHERE category.name = 'Comedy'"
   ]
  },
  {
   "cell_type": "markdown",
   "id": "07ebd4f9",
   "metadata": {},
   "source": [
    "3. What query would you run to get all the films that Johnny Lollobrigida was in? Your query should return the actor's last name, film title, and release year."
   ]
  },
  {
   "cell_type": "code",
   "execution_count": null,
   "id": "8bdd9d43",
   "metadata": {},
   "outputs": [],
   "source": [
    "SELECT film.title, actor.last_name, film.release_year\n",
    "FROM film \n",
    "JOIN film_actor ON actor.last_name = film_actor.actor.last_name\n",
    "WHERE film_actor.actor.last_name= 'Johnny Lollobrigida'"
   ]
  },
  {
   "cell_type": "markdown",
   "id": "49c14fd8",
   "metadata": {},
   "source": [
    "4. What query would you run to get the first and last names of all the actors in the movie titled \"Bingo Talented\"?"
   ]
  },
  {
   "cell_type": "code",
   "execution_count": null,
   "id": "65f46a60",
   "metadata": {},
   "outputs": [],
   "source": [
    "SELECT first_name, last_name\n",
    "FROM actor\n",
    "WHERE actor_id IN\n",
    "(\n",
    "Select actor_id\n",
    "FROM film_actor\n",
    "WHERE film_id IN \n",
    "(\n",
    "SELECT film_id\n",
    "FROM film\n",
    "WHERE title = 'Bingo Talented'"
   ]
  },
  {
   "cell_type": "markdown",
   "id": "1ee4fe20",
   "metadata": {},
   "source": [
    "5. What query would you run to get the customer_id associated with all payments greater than twice the average payment amount? (HINT: use 2* in your query to get twice the amount). Your result should include the customer id and the amount."
   ]
  },
  {
   "cell_type": "code",
   "execution_count": null,
   "id": "ec007158",
   "metadata": {},
   "outputs": [],
   "source": [
    "SELECT c.customer_id, sum(p.amount) AS `Total Paid`\n",
    "FROM customer c\n",
    "JOIN payment p \n",
    "ON c.customer_id= p.customer_id\n",
    ";"
   ]
  },
  {
   "cell_type": "markdown",
   "id": "99430814",
   "metadata": {},
   "source": [
    "6. What query would you run to list the first and last names of the 5 customers who have the highest number(count) of payments? You can title the number of payments as num_payments."
   ]
  },
  {
   "cell_type": "code",
   "execution_count": null,
   "id": "83b974ed",
   "metadata": {},
   "outputs": [],
   "source": []
  }
 ],
 "metadata": {
  "kernelspec": {
   "display_name": "Python (dojo-env)",
   "language": "python",
   "name": "dojo-env"
  },
  "language_info": {
   "codemirror_mode": {
    "name": "ipython",
    "version": 3
   },
   "file_extension": ".py",
   "mimetype": "text/x-python",
   "name": "python",
   "nbconvert_exporter": "python",
   "pygments_lexer": "ipython3",
   "version": "3.9.15"
  },
  "toc": {
   "base_numbering": 1,
   "nav_menu": {},
   "number_sections": true,
   "sideBar": true,
   "skip_h1_title": false,
   "title_cell": "Table of Contents",
   "title_sidebar": "Contents",
   "toc_cell": false,
   "toc_position": {},
   "toc_section_display": true,
   "toc_window_display": false
  }
 },
 "nbformat": 4,
 "nbformat_minor": 5
}
